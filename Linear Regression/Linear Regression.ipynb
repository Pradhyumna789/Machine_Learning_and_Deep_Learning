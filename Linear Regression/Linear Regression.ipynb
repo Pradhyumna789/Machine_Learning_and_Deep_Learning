{
 "cells": [
  {
   "cell_type": "markdown",
   "id": "cce73de1",
   "metadata": {},
   "source": [
    "# Analysis of LR using dummy data"
   ]
  },
  {
   "cell_type": "code",
   "execution_count": 5,
   "id": "383a2dcb",
   "metadata": {},
   "outputs": [],
   "source": [
    "import numpy as np"
   ]
  },
  {
   "cell_type": "code",
   "execution_count": 6,
   "id": "fd2f8c03",
   "metadata": {},
   "outputs": [],
   "source": [
    "data = np.loadtxt(\"data.csv\", delimiter = \",\") \n",
    "# With this default, np. loadtxt assumes that whitespace separates the columns\n",
    "# By setting delimeter = ',' were telling numpy to assume that ',' separates the columns"
   ]
  },
  {
   "cell_type": "code",
   "execution_count": 7,
   "id": "7887a38d",
   "metadata": {},
   "outputs": [
    {
     "data": {
      "text/plain": [
       "(100, 2)"
      ]
     },
     "execution_count": 7,
     "metadata": {},
     "output_type": "execute_result"
    }
   ],
   "source": [
    "data.shape"
   ]
  },
  {
   "cell_type": "code",
   "execution_count": 10,
   "id": "2f5f0d10",
   "metadata": {},
   "outputs": [],
   "source": [
    "X = data[:, 0].reshape(-1, 1)\n",
    "Y = data[:, 1]"
   ]
  },
  {
   "cell_type": "code",
   "execution_count": 11,
   "id": "b6027291",
   "metadata": {},
   "outputs": [
    {
     "name": "stdout",
     "output_type": "stream",
     "text": [
      "(100, 1)\n",
      "(100,)\n"
     ]
    }
   ],
   "source": [
    "# 1D arrays\n",
    "print(X.shape)\n",
    "print(Y.shape)"
   ]
  },
  {
   "cell_type": "code",
   "execution_count": 1,
   "id": "0a538bd6",
   "metadata": {},
   "outputs": [
    {
     "ename": "NameError",
     "evalue": "name 'data' is not defined",
     "output_type": "error",
     "traceback": [
      "\u001b[0;31m---------------------------------------------------------------------------\u001b[0m",
      "\u001b[0;31mNameError\u001b[0m                                 Traceback (most recent call last)",
      "\u001b[0;32m/tmp/ipykernel_19386/2613557499.py\u001b[0m in \u001b[0;36m<module>\u001b[0;34m\u001b[0m\n\u001b[1;32m      1\u001b[0m \u001b[0;31m# Converting 1D arrays into 2D arrays using .reshape() function\u001b[0m\u001b[0;34m\u001b[0m\u001b[0;34m\u001b[0m\u001b[0m\n\u001b[0;32m----> 2\u001b[0;31m \u001b[0mX\u001b[0m \u001b[0;34m=\u001b[0m \u001b[0mdata\u001b[0m\u001b[0;34m[\u001b[0m\u001b[0;34m:\u001b[0m\u001b[0;34m,\u001b[0m \u001b[0;36m0\u001b[0m\u001b[0;34m]\u001b[0m\u001b[0;34m.\u001b[0m\u001b[0mreshape\u001b[0m\u001b[0;34m(\u001b[0m\u001b[0;34m-\u001b[0m\u001b[0;36m1\u001b[0m\u001b[0;34m,\u001b[0m \u001b[0;36m1\u001b[0m\u001b[0;34m)\u001b[0m\u001b[0;34m\u001b[0m\u001b[0;34m\u001b[0m\u001b[0m\n\u001b[0m\u001b[1;32m      3\u001b[0m \u001b[0mY\u001b[0m \u001b[0;34m=\u001b[0m \u001b[0mdata\u001b[0m\u001b[0;34m[\u001b[0m\u001b[0;34m:\u001b[0m\u001b[0;34m,\u001b[0m \u001b[0;36m1\u001b[0m\u001b[0;34m]\u001b[0m\u001b[0;34m\u001b[0m\u001b[0;34m\u001b[0m\u001b[0m\n\u001b[1;32m      4\u001b[0m \u001b[0mprint\u001b[0m\u001b[0;34m(\u001b[0m\u001b[0mX\u001b[0m\u001b[0;34m.\u001b[0m\u001b[0mshape\u001b[0m\u001b[0;34m)\u001b[0m\u001b[0;34m\u001b[0m\u001b[0;34m\u001b[0m\u001b[0m\n\u001b[1;32m      5\u001b[0m \u001b[0mprint\u001b[0m\u001b[0;34m(\u001b[0m\u001b[0mY\u001b[0m\u001b[0;34m.\u001b[0m\u001b[0mshape\u001b[0m\u001b[0;34m)\u001b[0m\u001b[0;34m\u001b[0m\u001b[0;34m\u001b[0m\u001b[0m\n",
      "\u001b[0;31mNameError\u001b[0m: name 'data' is not defined"
     ]
    }
   ],
   "source": [
    "# Converting 1D arrays into 2D arrays using .reshape() function\n",
    "X = data[:, 0].reshape(-1, 1)\n",
    "Y = data[:, 1]\n",
    "print(X.shape)\n",
    "print(Y.shape)"
   ]
  },
  {
   "cell_type": "code",
   "execution_count": 68,
   "id": "a6653b8c",
   "metadata": {},
   "outputs": [],
   "source": [
    "from sklearn import model_selection\n",
    "X_train, X_test, Y_train, Y_test = model_selection.train_test_split(X, Y)"
   ]
  },
  {
   "cell_type": "code",
   "execution_count": 69,
   "id": "a8a338d7",
   "metadata": {},
   "outputs": [
    {
     "data": {
      "text/plain": [
       "LinearRegression()"
      ]
     },
     "execution_count": 69,
     "metadata": {},
     "output_type": "execute_result"
    }
   ],
   "source": [
    "from sklearn.linear_model import LinearRegression\n",
    "algo = LinearRegression() # Creating an object of linear regression \n",
    "algo.fit(X_train, Y_train)"
   ]
  },
  {
   "cell_type": "code",
   "execution_count": 70,
   "id": "9af11c3c",
   "metadata": {},
   "outputs": [
    {
     "data": {
      "text/plain": [
       "array([1.37269386])"
      ]
     },
     "execution_count": 70,
     "metadata": {},
     "output_type": "execute_result"
    }
   ],
   "source": [
    "# Linear Regression must have figured out the line\n",
    "# Now lets look at the regression constants 'm' and 'c'\n",
    "algo.coef_ # -> this is our 'm'"
   ]
  },
  {
   "cell_type": "code",
   "execution_count": 71,
   "id": "7945f137",
   "metadata": {},
   "outputs": [],
   "source": [
    "m = algo.coef_[0]"
   ]
  },
  {
   "cell_type": "code",
   "execution_count": 72,
   "id": "1341beb7",
   "metadata": {},
   "outputs": [
    {
     "data": {
      "text/plain": [
       "5.311428702944951"
      ]
     },
     "execution_count": 72,
     "metadata": {},
     "output_type": "execute_result"
    }
   ],
   "source": [
    "algo.intercept_ # -> this is our 'c'"
   ]
  },
  {
   "cell_type": "code",
   "execution_count": 73,
   "id": "419dab4a",
   "metadata": {},
   "outputs": [],
   "source": [
    "c = algo.intercept_"
   ]
  },
  {
   "cell_type": "markdown",
   "id": "df7b4920",
   "metadata": {},
   "source": [
    "## Note\n",
    "\n",
    "In some machine learning algorithms, such as linear regression, the coef_ attribute of the fitted model contains an array of coefficients for each feature in the input data.\n",
    "\n",
    "If there is only one feature in the input data, then coef_ will be a 1D array with a single value. In this case, using m = algo.coef_[0] is equivalent to using m = algo.coef_. However, if there are multiple features, using m = algo.coef_ will result in a TypeError."
   ]
  },
  {
   "cell_type": "code",
   "execution_count": 74,
   "id": "a85aea95",
   "metadata": {},
   "outputs": [
    {
     "data": {
      "image/png": "[encoded data removed]",
      "text/plain": [
       "<Figure size 640x480 with 1 Axes>"
      ]
     },
     "metadata": {},
     "output_type": "display_data"
    },
    {
     "name": "stdout",
     "output_type": "stream",
     "text": [
      "[0.  0.1 0.2 0.3 0.4 0.5 0.6 0.7 0.8 0.9 1.  1.1 1.2 1.3 1.4 1.5 1.6 1.7\n",
      " 1.8 1.9 2.  2.1 2.2 2.3 2.4 2.5 2.6 2.7 2.8 2.9 3.  3.1 3.2 3.3 3.4 3.5\n",
      " 3.6 3.7 3.8 3.9 4.  4.1 4.2 4.3 4.4 4.5 4.6 4.7 4.8 4.9 5.  5.1 5.2 5.3\n",
      " 5.4 5.5 5.6 5.7 5.8 5.9 6.  6.1 6.2 6.3 6.4 6.5 6.6 6.7 6.8 6.9 7.  7.1\n",
      " 7.2 7.3 7.4 7.5 7.6 7.7 7.8 7.9 8.  8.1 8.2 8.3 8.4 8.5 8.6 8.7 8.8 8.9\n",
      " 9.  9.1 9.2 9.3 9.4 9.5 9.6 9.7 9.8 9.9]\n"
     ]
    },
    {
     "data": {
      "text/plain": [
       "array([ 5.3114287 ,  5.44869809,  5.58596748,  5.72323686,  5.86050625,\n",
       "        5.99777563,  6.13504502,  6.27231441,  6.40958379,  6.54685318,\n",
       "        6.68412257,  6.82139195,  6.95866134,  7.09593072,  7.23320011,\n",
       "        7.3704695 ,  7.50773888,  7.64500827,  7.78227765,  7.91954704,\n",
       "        8.05681643,  8.19408581,  8.3313552 ,  8.46862459,  8.60589397,\n",
       "        8.74316336,  8.88043274,  9.01770213,  9.15497152,  9.2922409 ,\n",
       "        9.42951029,  9.56677968,  9.70404906,  9.84131845,  9.97858783,\n",
       "       10.11585722, 10.25312661, 10.39039599, 10.52766538, 10.66493477,\n",
       "       10.80220415, 10.93947354, 11.07674292, 11.21401231, 11.3512817 ,\n",
       "       11.48855108, 11.62582047, 11.76308985, 11.90035924, 12.03762863,\n",
       "       12.17489801, 12.3121674 , 12.44943679, 12.58670617, 12.72397556,\n",
       "       12.86124494, 12.99851433, 13.13578372, 13.2730531 , 13.41032249,\n",
       "       13.54759188, 13.68486126, 13.82213065, 13.95940003, 14.09666942,\n",
       "       14.23393881, 14.37120819, 14.50847758, 14.64574697, 14.78301635,\n",
       "       14.92028574, 15.05755512, 15.19482451, 15.3320939 , 15.46936328,\n",
       "       15.60663267, 15.74390205, 15.88117144, 16.01844083, 16.15571021,\n",
       "       16.2929796 , 16.43024899, 16.56751837, 16.70478776, 16.84205714,\n",
       "       16.97932653, 17.11659592, 17.2538653 , 17.39113469, 17.52840408,\n",
       "       17.66567346, 17.80294285, 17.94021223, 18.07748162, 18.21475101,\n",
       "       18.35202039, 18.48928978, 18.62655917, 18.76382855, 18.90109794])"
      ]
     },
     "execution_count": 74,
     "metadata": {},
     "output_type": "execute_result"
    }
   ],
   "source": [
    "# Plotting testing and training data\n",
    "# Plotting (mx+c) line\n",
    "import matplotlib.pyplot as plt\n",
    "\n",
    "x_line = np.arange(0, 10, 0.1)\n",
    "y_line = m * x_line + c\n",
    "train_1d = X_train.reshape(75) # converting into 1D again\n",
    "plt.plot(x_line, y_line)\n",
    "plt.scatter(X_train, Y_train)\n",
    "plt.show()\n",
    "print(x_line)\n",
    "y_line"
   ]
  },
  {
   "cell_type": "markdown",
   "id": "74540417",
   "metadata": {},
   "source": [
    "## Note \n",
    "\n",
    "Only the y_line variable is needed to plot the line that represents the linear regression model.\n",
    "\n",
    "The plt.plot() function can be used to plot a line, scatter plot, or other types of plots depending on the input parameters. In this case, the x_line and y_line variables are both passed in to create a line plot. The x_line variable represents the x-coordinates of the points to be plotted, while the y_line variable represents the corresponding y-coordinates of those points.\n",
    "\n",
    "However, since the x_line values are evenly spaced, we could omit the x_line variable altogether and simply pass in the y_line variable to plot the line. Therefore, the plt.plot() function could be simplified to plt.plot(y_line).\n",
    "\n",
    "In summary, both x_line and y_line variables are not necessary to plot the line that represents the linear regression model, and the plt.plot() function could be simplified to only pass in the y_line variable."
   ]
  },
  {
   "cell_type": "markdown",
   "id": "f200ae96",
   "metadata": {},
   "source": [
    "## Note \n",
    "\n",
    "In this code, the purpose of creating a x_line variable is to generate a set of evenly spaced values within a range that can be used to plot a straight line representing the linear regression model."
   ]
  },
  {
   "cell_type": "code",
   "execution_count": 75,
   "id": "c17f972b",
   "metadata": {},
   "outputs": [
    {
     "data": {
      "image/png": "[encoded data removed]",
      "text/plain": [
       "<Figure size 640x480 with 1 Axes>"
      ]
     },
     "metadata": {},
     "output_type": "display_data"
    }
   ],
   "source": [
    "# Now lets make the line cross through the points between 30 and 70 \n",
    "x_line = np.arange(30, 70, 0.1)\n",
    "y_line = m * x_line + c\n",
    "plt.plot(x_line, y_line, \"r\")\n",
    "plt.scatter(X_train, Y_train)\n",
    "plt.show()"
   ]
  },
  {
   "cell_type": "code",
   "execution_count": 76,
   "id": "90c1e1e9",
   "metadata": {},
   "outputs": [
    {
     "data": {
      "image/png": "[encoded data removed]",
      "text/plain": [
       "<Figure size 640x480 with 1 Axes>"
      ]
     },
     "metadata": {},
     "output_type": "display_data"
    }
   ],
   "source": [
    "# Now let's check how far away the X_test and Y_test are from our line\n",
    "plt.plot(x_line, y_line)\n",
    "plt.scatter(X_test, Y_test)\n",
    "plt.show()"
   ]
  },
  {
   "cell_type": "markdown",
   "id": "00189395",
   "metadata": {},
   "source": [
    "# Example"
   ]
  },
  {
   "cell_type": "code",
   "execution_count": null,
   "id": "be76094b",
   "metadata": {},
   "outputs": [],
   "source": [
    "Problem - Find coefficient and intercept\n",
    "\n",
    "For the given dataset \"FuelEconomy.csv\"\n",
    "Create a Linear Regressor and fit the dataset in this. After that, print the coefficient and intercept.\n",
    "Note:\n",
    " 1. Inside the function \"train_test_split\", use the \"random_state = 42\".\n",
    " 2. Split the dataset in the ratio of 70:30 into the training and testing datasets.\n",
    "To know more about randomstate please read the document given regarding randomstate.\n",
    "Output\n",
    "Print the coefficient and intercept in separate lines rounded off to 2 decimal places."
   ]
  },
  {
   "cell_type": "code",
   "execution_count": null,
   "id": "1df64c72",
   "metadata": {},
   "outputs": [],
   "source": [
    "import numpy as np\n",
    "from sklearn.linear_model import LinearRegression\n",
    "from sklearn import model_selection\n",
    "\n",
    "data = np.loadtxt(\"FuelEconomy.csv\", delimiter=\",\")\n",
    "X = data[:, 0].reshape(-1, 1)\n",
    "Y = data[:, 1]\n",
    "\n",
    "X_train, X_test, Y_train, Y_test = model_selection.train_test_split(X, Y, test_size=0.3, random_state=42)\n",
    "algo = LinearRegression()\n",
    "algo.fit(X_train, Y_train)\n",
    "\n",
    "print(round(algo.coef_[0], 2))\n",
    "print(round(algo.intercept_, 2))"
   ]
  },
  {
   "cell_type": "markdown",
   "id": "7817307b",
   "metadata": {},
   "source": [
    "# Coefficient of determination"
   ]
  },
  {
   "cell_type": "code",
   "execution_count": 78,
   "id": "4bcc2a1f",
   "metadata": {},
   "outputs": [
    {
     "name": "stdout",
     "output_type": "stream",
     "text": [
      "0.558161295338042\n",
      "0.6085705397103417\n"
     ]
    }
   ],
   "source": [
    "score_test = algo.score(X_test, Y_test) # our score is coming to be 0.5\n",
    "score_training = algo.score(X_train, Y_train) # our score is coming to be 0.6\n",
    "print(score_test)\n",
    "print(score_training)"
   ]
  },
  {
   "cell_type": "markdown",
   "id": "0659288a",
   "metadata": {},
   "source": [
    "# Example"
   ]
  },
  {
   "cell_type": "code",
   "execution_count": null,
   "id": "79a6fc07",
   "metadata": {},
   "outputs": [],
   "source": [
    "Problem - Find the testing and training score\n",
    "\n",
    "For the given dataset \"FuelEconomy.csv\"\n",
    "Create a Linear Regressor and fit the dataset in this and then print the training and testing score for this regressor.\n",
    "Note: Inside the function \"traintestsplit\" use the \"random_state = 42\".\n",
    "To know more about randomstate please read the document given regarding randomstate.\n",
    "Output\n",
    "Print the testing and training scores in separate lines rounded off to 3 decimal places."
   ]
  },
  {
   "cell_type": "code",
   "execution_count": null,
   "id": "f157d485",
   "metadata": {},
   "outputs": [],
   "source": [
    "import numpy as np\n",
    "from sklearn import model_selection\n",
    "from sklearn.linear_model import LinearRegression\n",
    "\n",
    "data = np.loadtxt(\"FuelEconomy.csv\", delimiter = \",\")\n",
    "\n",
    "X = data[:, 0].reshape(-1, 1)\n",
    "Y = data[:, 1]\n",
    "\n",
    "X_train, X_test, Y_train, Y_test = model_selection.train_test_split(X, Y, test_size = 0.3, random_state = 42)\n",
    "\n",
    "algo = LinearRegression()\n",
    "algo.fit(X_train, Y_train)\n",
    "\n",
    "score_test = algo.score(X_test, Y_test)\n",
    "score_training = algo.score(X_train, Y_train)\n",
    "\n",
    "print(round(score_test, 3))\n",
    "print(round(score_training, 3))"
   ]
  },
  {
   "cell_type": "markdown",
   "id": "386602c1",
   "metadata": {},
   "source": [
    "# Linear Regression from scratch"
   ]
  },
  {
   "cell_type": "code",
   "execution_count": 93,
   "id": "af38f823",
   "metadata": {},
   "outputs": [],
   "source": [
    "# The internal algorithm requires a 2D array but in our case we only require 1D array.\n",
    "import numpy as np"
   ]
  },
  {
   "cell_type": "code",
   "execution_count": 94,
   "id": "8db83927",
   "metadata": {},
   "outputs": [],
   "source": [
    "data = np.loadtxt(\"data.csv\", delimiter = ',')"
   ]
  },
  {
   "cell_type": "code",
   "execution_count": 95,
   "id": "f4721243",
   "metadata": {},
   "outputs": [],
   "source": [
    "X = data[:, 0]\n",
    "Y = data[:, 1]"
   ]
  },
  {
   "cell_type": "code",
   "execution_count": 96,
   "id": "96840b11",
   "metadata": {},
   "outputs": [],
   "source": [
    "from sklearn import model_selection\n",
    "X_train, X_test, Y_train, Y_test = model_selection.train_test_split(X, Y, test_size = 0.3)"
   ]
  },
  {
   "cell_type": "code",
   "execution_count": 97,
   "id": "6e9a166a",
   "metadata": {},
   "outputs": [],
   "source": [
    "def fit(x_train, y_train):\n",
    "    numerator = (x_train * y_train).mean() - x_train.mean() * y_train.mean()\n",
    "    denominator = (x_train**2).mean() - x_train.mean()**2\n",
    "    m = numerator / denominator\n",
    "    c = y_train.mean() - m * x_train.mean()\n",
    "    return m, c"
   ]
  },
  {
   "cell_type": "code",
   "execution_count": 98,
   "id": "d58808de",
   "metadata": {},
   "outputs": [],
   "source": [
    "def predict(x, m, c):\n",
    "    return m * x + c"
   ]
  },
  {
   "cell_type": "code",
   "execution_count": 99,
   "id": "626274e4",
   "metadata": {},
   "outputs": [],
   "source": [
    "def score(y_train, y_pred):\n",
    "    u = ((y_train - y_pred)**2).sum()\n",
    "    v = ((y_train - y_train.mean())**2).sum()\n",
    "    return 1 - u/v"
   ]
  },
  {
   "cell_type": "code",
   "execution_count": 100,
   "id": "d2ed5dbf",
   "metadata": {},
   "outputs": [],
   "source": [
    "def cost (x, y, m, c):\n",
    "    return ((y - m * x - c)**2).sum()"
   ]
  },
  {
   "cell_type": "code",
   "execution_count": 101,
   "id": "9bfb7174",
   "metadata": {},
   "outputs": [],
   "source": [
    "def avgCost(x, y, m, c):\n",
    "    cost = ((y - m*x - c)**2).mean()\n",
    "    return avgCost"
   ]
  },
  {
   "cell_type": "code",
   "execution_count": 102,
   "id": "c6f249a8",
   "metadata": {},
   "outputs": [
    {
     "name": "stdout",
     "output_type": "stream",
     "text": [
      "M, C: \n",
      " 1.447322408735802 1.9166102706246448\n",
      "Train score: \n",
      " 0.6306190688060298\n",
      "Test score: \n",
      " 0.5014670100480028\n",
      "Cost on training data: \n",
      " 102.79696847989749\n",
      "Cost on testing data: \n",
      " 102.79696847989749\n",
      "Average cost on training data: \n",
      " <function avgCost at 0x7fd28c79b790>\n",
      "Average cost on testing data: \n",
      " <function avgCost at 0x7fd28c79b790>\n"
     ]
    }
   ],
   "source": [
    "m, c = fit(X_train, Y_train)\n",
    "y_train_pred = predict(X_train, m, c)\n",
    "y_test_pred = predict(X_test, m, c)\n",
    "y_train_score = score(Y_train, y_train_pred)\n",
    "y_test_score = score(Y_test, y_test_pred)\n",
    "print(\"M, C: \\n\", m, c)\n",
    "print(\"Train score: \\n\", y_train_score)\n",
    "print(\"Test score: \\n\", y_test_score)\n",
    "print(\"Cost on training data: \\n\", cost(X_train, Y_train, m, c))\n",
    "print(\"Cost on testing data: \\n\", cost(X_train, Y_train, m, c))\n",
    "print(\"Average cost on training data: \\n\", avgCost(X_train, Y_train, m, c))\n",
    "print(\"Average cost on testing data: \\n\", avgCost(X_train, Y_train, m, c))"
   ]
  },
  {
   "cell_type": "code",
   "execution_count": null,
   "id": "2f4b4e07",
   "metadata": {},
   "outputs": [],
   "source": []
  }
 ],
 "metadata": {
  "kernelspec": {
   "display_name": "Python 3 (ipykernel)",
   "language": "python",
   "name": "python3"
  },
  "language_info": {
   "codemirror_mode": {
    "name": "ipython",
    "version": 3
   },
   "file_extension": ".py",
   "mimetype": "text/x-python",
   "name": "python",
   "nbconvert_exporter": "python",
   "pygments_lexer": "ipython3",
   "version": "3.9.13"
  }
 },
 "nbformat": 4,
 "nbformat_minor": 5
}
