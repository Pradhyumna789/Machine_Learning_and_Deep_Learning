{
 "cells": [
  {
   "cell_type": "markdown",
   "id": "d559accb",
   "metadata": {},
   "source": [
    "# Loading Boston Dataset\n",
    "- House price data in Boston"
   ]
  },
  {
   "cell_type": "code",
   "execution_count": 1,
   "id": "3ee39976",
   "metadata": {},
   "outputs": [],
   "source": [
    "from sklearn import datasets"
   ]
  },
  {
   "cell_type": "code",
   "execution_count": 2,
   "id": "73ad3ca6",
   "metadata": {},
   "outputs": [
    {
     "name": "stderr",
     "output_type": "stream",
     "text": [
      "/home/harsha/anaconda3/lib/python3.9/site-packages/sklearn/utils/deprecation.py:87: FutureWarning: Function load_boston is deprecated; `load_boston` is deprecated in 1.0 and will be removed in 1.2.\n",
      "\n",
      "    The Boston housing prices dataset has an ethical problem. You can refer to\n",
      "    the documentation of this function for further details.\n",
      "\n",
      "    The scikit-learn maintainers therefore strongly discourage the use of this\n",
      "    dataset unless the purpose of the code is to study and educate about\n",
      "    ethical issues in data science and machine learning.\n",
      "\n",
      "    In this special case, you can fetch the dataset from the original\n",
      "    source::\n",
      "\n",
      "        import pandas as pd\n",
      "        import numpy as np\n",
      "\n",
      "\n",
      "        data_url = \"http://lib.stat.cmu.edu/datasets/boston\"\n",
      "        raw_df = pd.read_csv(data_url, sep=\"\\s+\", skiprows=22, header=None)\n",
      "        data = np.hstack([raw_df.values[::2, :], raw_df.values[1::2, :2]])\n",
      "        target = raw_df.values[1::2, 2]\n",
      "\n",
      "    Alternative datasets include the California housing dataset (i.e.\n",
      "    :func:`~sklearn.datasets.fetch_california_housing`) and the Ames housing\n",
      "    dataset. You can load the datasets as follows::\n",
      "\n",
      "        from sklearn.datasets import fetch_california_housing\n",
      "        housing = fetch_california_housing()\n",
      "\n",
      "    for the California housing dataset and::\n",
      "\n",
      "        from sklearn.datasets import fetch_openml\n",
      "        housing = fetch_openml(name=\"house_prices\", as_frame=True)\n",
      "\n",
      "    for the Ames housing dataset.\n",
      "    \n",
      "  warnings.warn(msg, category=FutureWarning)\n"
     ]
    },
    {
     "ename": "NameError",
     "evalue": "name 'data' is not defined",
     "output_type": "error",
     "traceback": [
      "\u001b[0;31m---------------------------------------------------------------------------\u001b[0m",
      "\u001b[0;31mNameError\u001b[0m                                 Traceback (most recent call last)",
      "\u001b[0;32m/tmp/ipykernel_6621/66166249.py\u001b[0m in \u001b[0;36m<module>\u001b[0;34m\u001b[0m\n\u001b[1;32m      1\u001b[0m \u001b[0mboston\u001b[0m \u001b[0;34m=\u001b[0m \u001b[0mdatasets\u001b[0m\u001b[0;34m.\u001b[0m\u001b[0mload_boston\u001b[0m\u001b[0;34m(\u001b[0m\u001b[0;34m)\u001b[0m\u001b[0;34m\u001b[0m\u001b[0;34m\u001b[0m\u001b[0m\n\u001b[0;32m----> 2\u001b[0;31m \u001b[0mtype\u001b[0m\u001b[0;34m(\u001b[0m\u001b[0mdata\u001b[0m\u001b[0;34m)\u001b[0m\u001b[0;34m\u001b[0m\u001b[0;34m\u001b[0m\u001b[0m\n\u001b[0m",
      "\u001b[0;31mNameError\u001b[0m: name 'data' is not defined"
     ]
    }
   ],
   "source": [
    "boston = datasets.load_boston()\n",
    "type(data)"
   ]
  },
  {
   "cell_type": "code",
   "execution_count": 3,
   "id": "46db8e06",
   "metadata": {},
   "outputs": [
    {
     "ename": "NameError",
     "evalue": "name 'data' is not defined",
     "output_type": "error",
     "traceback": [
      "\u001b[0;31m---------------------------------------------------------------------------\u001b[0m",
      "\u001b[0;31mNameError\u001b[0m                                 Traceback (most recent call last)",
      "\u001b[0;32m/tmp/ipykernel_6621/391604064.py\u001b[0m in \u001b[0;36m<module>\u001b[0;34m\u001b[0m\n\u001b[0;32m----> 1\u001b[0;31m \u001b[0mdata\u001b[0m\u001b[0;34m\u001b[0m\u001b[0;34m\u001b[0m\u001b[0m\n\u001b[0m",
      "\u001b[0;31mNameError\u001b[0m: name 'data' is not defined"
     ]
    }
   ],
   "source": [
    "data"
   ]
  },
  {
   "cell_type": "code",
   "execution_count": 4,
   "id": "da01c066",
   "metadata": {},
   "outputs": [
    {
     "data": {
      "text/plain": [
       "numpy.ndarray"
      ]
     },
     "execution_count": 4,
     "metadata": {},
     "output_type": "execute_result"
    }
   ],
   "source": [
    "X = boston.data\n",
    "Y = boston.target\n",
    "type(X)"
   ]
  },
  {
   "cell_type": "code",
   "execution_count": 5,
   "id": "35906aa3",
   "metadata": {},
   "outputs": [
    {
     "data": {
      "text/plain": [
       "(506, 13)"
      ]
     },
     "execution_count": 5,
     "metadata": {},
     "output_type": "execute_result"
    }
   ],
   "source": [
    "X.shape"
   ]
  },
  {
   "cell_type": "code",
   "execution_count": 6,
   "id": "6de99402",
   "metadata": {},
   "outputs": [
    {
     "name": "stdout",
     "output_type": "stream",
     "text": [
      "['CRIM' 'ZN' 'INDUS' 'CHAS' 'NOX' 'RM' 'AGE' 'DIS' 'RAD' 'TAX' 'PTRATIO'\n",
      " 'B' 'LSTAT']\n"
     ]
    },
    {
     "data": {
      "text/html": [
       "<div>\n",
       "<style scoped>\n",
       "    .dataframe tbody tr th:only-of-type {\n",
       "        vertical-align: middle;\n",
       "    }\n",
       "\n",
       "    .dataframe tbody tr th {\n",
       "        vertical-align: top;\n",
       "    }\n",
       "\n",
       "    .dataframe thead th {\n",
       "        text-align: right;\n",
       "    }\n",
       "</style>\n",
       "<table border=\"1\" class=\"dataframe\">\n",
       "  <thead>\n",
       "    <tr style=\"text-align: right;\">\n",
       "      <th></th>\n",
       "      <th>CRIM</th>\n",
       "      <th>ZN</th>\n",
       "      <th>INDUS</th>\n",
       "      <th>CHAS</th>\n",
       "      <th>NOX</th>\n",
       "      <th>RM</th>\n",
       "      <th>AGE</th>\n",
       "      <th>DIS</th>\n",
       "      <th>RAD</th>\n",
       "      <th>TAX</th>\n",
       "      <th>PTRATIO</th>\n",
       "      <th>B</th>\n",
       "      <th>LSTAT</th>\n",
       "    </tr>\n",
       "  </thead>\n",
       "  <tbody>\n",
       "    <tr>\n",
       "      <th>count</th>\n",
       "      <td>506.000000</td>\n",
       "      <td>506.000000</td>\n",
       "      <td>506.000000</td>\n",
       "      <td>506.000000</td>\n",
       "      <td>506.000000</td>\n",
       "      <td>506.000000</td>\n",
       "      <td>506.000000</td>\n",
       "      <td>506.000000</td>\n",
       "      <td>506.000000</td>\n",
       "      <td>506.000000</td>\n",
       "      <td>506.000000</td>\n",
       "      <td>506.000000</td>\n",
       "      <td>506.000000</td>\n",
       "    </tr>\n",
       "    <tr>\n",
       "      <th>mean</th>\n",
       "      <td>3.613524</td>\n",
       "      <td>11.363636</td>\n",
       "      <td>11.136779</td>\n",
       "      <td>0.069170</td>\n",
       "      <td>0.554695</td>\n",
       "      <td>6.284634</td>\n",
       "      <td>68.574901</td>\n",
       "      <td>3.795043</td>\n",
       "      <td>9.549407</td>\n",
       "      <td>408.237154</td>\n",
       "      <td>18.455534</td>\n",
       "      <td>356.674032</td>\n",
       "      <td>12.653063</td>\n",
       "    </tr>\n",
       "    <tr>\n",
       "      <th>std</th>\n",
       "      <td>8.601545</td>\n",
       "      <td>23.322453</td>\n",
       "      <td>6.860353</td>\n",
       "      <td>0.253994</td>\n",
       "      <td>0.115878</td>\n",
       "      <td>0.702617</td>\n",
       "      <td>28.148861</td>\n",
       "      <td>2.105710</td>\n",
       "      <td>8.707259</td>\n",
       "      <td>168.537116</td>\n",
       "      <td>2.164946</td>\n",
       "      <td>91.294864</td>\n",
       "      <td>7.141062</td>\n",
       "    </tr>\n",
       "    <tr>\n",
       "      <th>min</th>\n",
       "      <td>0.006320</td>\n",
       "      <td>0.000000</td>\n",
       "      <td>0.460000</td>\n",
       "      <td>0.000000</td>\n",
       "      <td>0.385000</td>\n",
       "      <td>3.561000</td>\n",
       "      <td>2.900000</td>\n",
       "      <td>1.129600</td>\n",
       "      <td>1.000000</td>\n",
       "      <td>187.000000</td>\n",
       "      <td>12.600000</td>\n",
       "      <td>0.320000</td>\n",
       "      <td>1.730000</td>\n",
       "    </tr>\n",
       "    <tr>\n",
       "      <th>25%</th>\n",
       "      <td>0.082045</td>\n",
       "      <td>0.000000</td>\n",
       "      <td>5.190000</td>\n",
       "      <td>0.000000</td>\n",
       "      <td>0.449000</td>\n",
       "      <td>5.885500</td>\n",
       "      <td>45.025000</td>\n",
       "      <td>2.100175</td>\n",
       "      <td>4.000000</td>\n",
       "      <td>279.000000</td>\n",
       "      <td>17.400000</td>\n",
       "      <td>375.377500</td>\n",
       "      <td>6.950000</td>\n",
       "    </tr>\n",
       "    <tr>\n",
       "      <th>50%</th>\n",
       "      <td>0.256510</td>\n",
       "      <td>0.000000</td>\n",
       "      <td>9.690000</td>\n",
       "      <td>0.000000</td>\n",
       "      <td>0.538000</td>\n",
       "      <td>6.208500</td>\n",
       "      <td>77.500000</td>\n",
       "      <td>3.207450</td>\n",
       "      <td>5.000000</td>\n",
       "      <td>330.000000</td>\n",
       "      <td>19.050000</td>\n",
       "      <td>391.440000</td>\n",
       "      <td>11.360000</td>\n",
       "    </tr>\n",
       "    <tr>\n",
       "      <th>75%</th>\n",
       "      <td>3.677083</td>\n",
       "      <td>12.500000</td>\n",
       "      <td>18.100000</td>\n",
       "      <td>0.000000</td>\n",
       "      <td>0.624000</td>\n",
       "      <td>6.623500</td>\n",
       "      <td>94.075000</td>\n",
       "      <td>5.188425</td>\n",
       "      <td>24.000000</td>\n",
       "      <td>666.000000</td>\n",
       "      <td>20.200000</td>\n",
       "      <td>396.225000</td>\n",
       "      <td>16.955000</td>\n",
       "    </tr>\n",
       "    <tr>\n",
       "      <th>max</th>\n",
       "      <td>88.976200</td>\n",
       "      <td>100.000000</td>\n",
       "      <td>27.740000</td>\n",
       "      <td>1.000000</td>\n",
       "      <td>0.871000</td>\n",
       "      <td>8.780000</td>\n",
       "      <td>100.000000</td>\n",
       "      <td>12.126500</td>\n",
       "      <td>24.000000</td>\n",
       "      <td>711.000000</td>\n",
       "      <td>22.000000</td>\n",
       "      <td>396.900000</td>\n",
       "      <td>37.970000</td>\n",
       "    </tr>\n",
       "  </tbody>\n",
       "</table>\n",
       "</div>"
      ],
      "text/plain": [
       "             CRIM          ZN       INDUS        CHAS         NOX          RM   \n",
       "count  506.000000  506.000000  506.000000  506.000000  506.000000  506.000000  \\\n",
       "mean     3.613524   11.363636   11.136779    0.069170    0.554695    6.284634   \n",
       "std      8.601545   23.322453    6.860353    0.253994    0.115878    0.702617   \n",
       "min      0.006320    0.000000    0.460000    0.000000    0.385000    3.561000   \n",
       "25%      0.082045    0.000000    5.190000    0.000000    0.449000    5.885500   \n",
       "50%      0.256510    0.000000    9.690000    0.000000    0.538000    6.208500   \n",
       "75%      3.677083   12.500000   18.100000    0.000000    0.624000    6.623500   \n",
       "max     88.976200  100.000000   27.740000    1.000000    0.871000    8.780000   \n",
       "\n",
       "              AGE         DIS         RAD         TAX     PTRATIO           B   \n",
       "count  506.000000  506.000000  506.000000  506.000000  506.000000  506.000000  \\\n",
       "mean    68.574901    3.795043    9.549407  408.237154   18.455534  356.674032   \n",
       "std     28.148861    2.105710    8.707259  168.537116    2.164946   91.294864   \n",
       "min      2.900000    1.129600    1.000000  187.000000   12.600000    0.320000   \n",
       "25%     45.025000    2.100175    4.000000  279.000000   17.400000  375.377500   \n",
       "50%     77.500000    3.207450    5.000000  330.000000   19.050000  391.440000   \n",
       "75%     94.075000    5.188425   24.000000  666.000000   20.200000  396.225000   \n",
       "max    100.000000   12.126500   24.000000  711.000000   22.000000  396.900000   \n",
       "\n",
       "            LSTAT  \n",
       "count  506.000000  \n",
       "mean    12.653063  \n",
       "std      7.141062  \n",
       "min      1.730000  \n",
       "25%      6.950000  \n",
       "50%     11.360000  \n",
       "75%     16.955000  \n",
       "max     37.970000  "
      ]
     },
     "execution_count": 6,
     "metadata": {},
     "output_type": "execute_result"
    }
   ],
   "source": [
    "import pandas as pd\n",
    "df = pd.DataFrame(X)\n",
    "print(boston.feature_names)\n",
    "df.columns = boston.feature_names\n",
    "df.describe()"
   ]
  },
  {
   "cell_type": "code",
   "execution_count": 7,
   "id": "97aed5ea",
   "metadata": {},
   "outputs": [
    {
     "data": {
      "text/plain": [
       "{'data': array([[6.3200e-03, 1.8000e+01, 2.3100e+00, ..., 1.5300e+01, 3.9690e+02,\n",
       "         4.9800e+00],\n",
       "        [2.7310e-02, 0.0000e+00, 7.0700e+00, ..., 1.7800e+01, 3.9690e+02,\n",
       "         9.1400e+00],\n",
       "        [2.7290e-02, 0.0000e+00, 7.0700e+00, ..., 1.7800e+01, 3.9283e+02,\n",
       "         4.0300e+00],\n",
       "        ...,\n",
       "        [6.0760e-02, 0.0000e+00, 1.1930e+01, ..., 2.1000e+01, 3.9690e+02,\n",
       "         5.6400e+00],\n",
       "        [1.0959e-01, 0.0000e+00, 1.1930e+01, ..., 2.1000e+01, 3.9345e+02,\n",
       "         6.4800e+00],\n",
       "        [4.7410e-02, 0.0000e+00, 1.1930e+01, ..., 2.1000e+01, 3.9690e+02,\n",
       "         7.8800e+00]]),\n",
       " 'target': array([24. , 21.6, 34.7, 33.4, 36.2, 28.7, 22.9, 27.1, 16.5, 18.9, 15. ,\n",
       "        18.9, 21.7, 20.4, 18.2, 19.9, 23.1, 17.5, 20.2, 18.2, 13.6, 19.6,\n",
       "        15.2, 14.5, 15.6, 13.9, 16.6, 14.8, 18.4, 21. , 12.7, 14.5, 13.2,\n",
       "        13.1, 13.5, 18.9, 20. , 21. , 24.7, 30.8, 34.9, 26.6, 25.3, 24.7,\n",
       "        21.2, 19.3, 20. , 16.6, 14.4, 19.4, 19.7, 20.5, 25. , 23.4, 18.9,\n",
       "        35.4, 24.7, 31.6, 23.3, 19.6, 18.7, 16. , 22.2, 25. , 33. , 23.5,\n",
       "        19.4, 22. , 17.4, 20.9, 24.2, 21.7, 22.8, 23.4, 24.1, 21.4, 20. ,\n",
       "        20.8, 21.2, 20.3, 28. , 23.9, 24.8, 22.9, 23.9, 26.6, 22.5, 22.2,\n",
       "        23.6, 28.7, 22.6, 22. , 22.9, 25. , 20.6, 28.4, 21.4, 38.7, 43.8,\n",
       "        33.2, 27.5, 26.5, 18.6, 19.3, 20.1, 19.5, 19.5, 20.4, 19.8, 19.4,\n",
       "        21.7, 22.8, 18.8, 18.7, 18.5, 18.3, 21.2, 19.2, 20.4, 19.3, 22. ,\n",
       "        20.3, 20.5, 17.3, 18.8, 21.4, 15.7, 16.2, 18. , 14.3, 19.2, 19.6,\n",
       "        23. , 18.4, 15.6, 18.1, 17.4, 17.1, 13.3, 17.8, 14. , 14.4, 13.4,\n",
       "        15.6, 11.8, 13.8, 15.6, 14.6, 17.8, 15.4, 21.5, 19.6, 15.3, 19.4,\n",
       "        17. , 15.6, 13.1, 41.3, 24.3, 23.3, 27. , 50. , 50. , 50. , 22.7,\n",
       "        25. , 50. , 23.8, 23.8, 22.3, 17.4, 19.1, 23.1, 23.6, 22.6, 29.4,\n",
       "        23.2, 24.6, 29.9, 37.2, 39.8, 36.2, 37.9, 32.5, 26.4, 29.6, 50. ,\n",
       "        32. , 29.8, 34.9, 37. , 30.5, 36.4, 31.1, 29.1, 50. , 33.3, 30.3,\n",
       "        34.6, 34.9, 32.9, 24.1, 42.3, 48.5, 50. , 22.6, 24.4, 22.5, 24.4,\n",
       "        20. , 21.7, 19.3, 22.4, 28.1, 23.7, 25. , 23.3, 28.7, 21.5, 23. ,\n",
       "        26.7, 21.7, 27.5, 30.1, 44.8, 50. , 37.6, 31.6, 46.7, 31.5, 24.3,\n",
       "        31.7, 41.7, 48.3, 29. , 24. , 25.1, 31.5, 23.7, 23.3, 22. , 20.1,\n",
       "        22.2, 23.7, 17.6, 18.5, 24.3, 20.5, 24.5, 26.2, 24.4, 24.8, 29.6,\n",
       "        42.8, 21.9, 20.9, 44. , 50. , 36. , 30.1, 33.8, 43.1, 48.8, 31. ,\n",
       "        36.5, 22.8, 30.7, 50. , 43.5, 20.7, 21.1, 25.2, 24.4, 35.2, 32.4,\n",
       "        32. , 33.2, 33.1, 29.1, 35.1, 45.4, 35.4, 46. , 50. , 32.2, 22. ,\n",
       "        20.1, 23.2, 22.3, 24.8, 28.5, 37.3, 27.9, 23.9, 21.7, 28.6, 27.1,\n",
       "        20.3, 22.5, 29. , 24.8, 22. , 26.4, 33.1, 36.1, 28.4, 33.4, 28.2,\n",
       "        22.8, 20.3, 16.1, 22.1, 19.4, 21.6, 23.8, 16.2, 17.8, 19.8, 23.1,\n",
       "        21. , 23.8, 23.1, 20.4, 18.5, 25. , 24.6, 23. , 22.2, 19.3, 22.6,\n",
       "        19.8, 17.1, 19.4, 22.2, 20.7, 21.1, 19.5, 18.5, 20.6, 19. , 18.7,\n",
       "        32.7, 16.5, 23.9, 31.2, 17.5, 17.2, 23.1, 24.5, 26.6, 22.9, 24.1,\n",
       "        18.6, 30.1, 18.2, 20.6, 17.8, 21.7, 22.7, 22.6, 25. , 19.9, 20.8,\n",
       "        16.8, 21.9, 27.5, 21.9, 23.1, 50. , 50. , 50. , 50. , 50. , 13.8,\n",
       "        13.8, 15. , 13.9, 13.3, 13.1, 10.2, 10.4, 10.9, 11.3, 12.3,  8.8,\n",
       "         7.2, 10.5,  7.4, 10.2, 11.5, 15.1, 23.2,  9.7, 13.8, 12.7, 13.1,\n",
       "        12.5,  8.5,  5. ,  6.3,  5.6,  7.2, 12.1,  8.3,  8.5,  5. , 11.9,\n",
       "        27.9, 17.2, 27.5, 15. , 17.2, 17.9, 16.3,  7. ,  7.2,  7.5, 10.4,\n",
       "         8.8,  8.4, 16.7, 14.2, 20.8, 13.4, 11.7,  8.3, 10.2, 10.9, 11. ,\n",
       "         9.5, 14.5, 14.1, 16.1, 14.3, 11.7, 13.4,  9.6,  8.7,  8.4, 12.8,\n",
       "        10.5, 17.1, 18.4, 15.4, 10.8, 11.8, 14.9, 12.6, 14.1, 13. , 13.4,\n",
       "        15.2, 16.1, 17.8, 14.9, 14.1, 12.7, 13.5, 14.9, 20. , 16.4, 17.7,\n",
       "        19.5, 20.2, 21.4, 19.9, 19. , 19.1, 19.1, 20.1, 19.9, 19.6, 23.2,\n",
       "        29.8, 13.8, 13.3, 16.7, 12. , 14.6, 21.4, 23. , 23.7, 25. , 21.8,\n",
       "        20.6, 21.2, 19.1, 20.6, 15.2,  7. ,  8.1, 13.6, 20.1, 21.8, 24.5,\n",
       "        23.1, 19.7, 18.3, 21.2, 17.5, 16.8, 22.4, 20.6, 23.9, 22. , 11.9]),\n",
       " 'feature_names': array(['CRIM', 'ZN', 'INDUS', 'CHAS', 'NOX', 'RM', 'AGE', 'DIS', 'RAD',\n",
       "        'TAX', 'PTRATIO', 'B', 'LSTAT'], dtype='<U7'),\n",
       " 'DESCR': \".. _boston_dataset:\\n\\nBoston house prices dataset\\n---------------------------\\n\\n**Data Set Characteristics:**  \\n\\n    :Number of Instances: 506 \\n\\n    :Number of Attributes: 13 numeric/categorical predictive. Median Value (attribute 14) is usually the target.\\n\\n    :Attribute Information (in order):\\n        - CRIM     per capita crime rate by town\\n        - ZN       proportion of residential land zoned for lots over 25,000 sq.ft.\\n        - INDUS    proportion of non-retail business acres per town\\n        - CHAS     Charles River dummy variable (= 1 if tract bounds river; 0 otherwise)\\n        - NOX      nitric oxides concentration (parts per 10 million)\\n        - RM       average number of rooms per dwelling\\n        - AGE      proportion of owner-occupied units built prior to 1940\\n        - DIS      weighted distances to five Boston employment centres\\n        - RAD      index of accessibility to radial highways\\n        - TAX      full-value property-tax rate per $10,000\\n        - PTRATIO  pupil-teacher ratio by town\\n        - B        1000(Bk - 0.63)^2 where Bk is the proportion of black people by town\\n        - LSTAT    % lower status of the population\\n        - MEDV     Median value of owner-occupied homes in $1000's\\n\\n    :Missing Attribute Values: None\\n\\n    :Creator: Harrison, D. and Rubinfeld, D.L.\\n\\nThis is a copy of UCI ML housing dataset.\\nhttps://archive.ics.uci.edu/ml/machine-learning-databases/housing/\\n\\n\\nThis dataset was taken from the StatLib library which is maintained at Carnegie Mellon University.\\n\\nThe Boston house-price data of Harrison, D. and Rubinfeld, D.L. 'Hedonic\\nprices and the demand for clean air', J. Environ. Economics & Management,\\nvol.5, 81-102, 1978.   Used in Belsley, Kuh & Welsch, 'Regression diagnostics\\n...', Wiley, 1980.   N.B. Various transformations are used in the table on\\npages 244-261 of the latter.\\n\\nThe Boston house-price data has been used in many machine learning papers that address regression\\nproblems.   \\n     \\n.. topic:: References\\n\\n   - Belsley, Kuh & Welsch, 'Regression diagnostics: Identifying Influential Data and Sources of Collinearity', Wiley, 1980. 244-261.\\n   - Quinlan,R. (1993). Combining Instance-Based and Model-Based Learning. In Proceedings on the Tenth International Conference of Machine Learning, 236-243, University of Massachusetts, Amherst. Morgan Kaufmann.\\n\",\n",
       " 'filename': 'boston_house_prices.csv',\n",
       " 'data_module': 'sklearn.datasets.data'}"
      ]
     },
     "execution_count": 7,
     "metadata": {},
     "output_type": "execute_result"
    }
   ],
   "source": [
    "boston"
   ]
  },
  {
   "cell_type": "code",
   "execution_count": 8,
   "id": "90a83d41",
   "metadata": {},
   "outputs": [
    {
     "data": {
      "text/plain": [
       "\".. _boston_dataset:\\n\\nBoston house prices dataset\\n---------------------------\\n\\n**Data Set Characteristics:**  \\n\\n    :Number of Instances: 506 \\n\\n    :Number of Attributes: 13 numeric/categorical predictive. Median Value (attribute 14) is usually the target.\\n\\n    :Attribute Information (in order):\\n        - CRIM     per capita crime rate by town\\n        - ZN       proportion of residential land zoned for lots over 25,000 sq.ft.\\n        - INDUS    proportion of non-retail business acres per town\\n        - CHAS     Charles River dummy variable (= 1 if tract bounds river; 0 otherwise)\\n        - NOX      nitric oxides concentration (parts per 10 million)\\n        - RM       average number of rooms per dwelling\\n        - AGE      proportion of owner-occupied units built prior to 1940\\n        - DIS      weighted distances to five Boston employment centres\\n        - RAD      index of accessibility to radial highways\\n        - TAX      full-value property-tax rate per $10,000\\n        - PTRATIO  pupil-teacher ratio by town\\n        - B        1000(Bk - 0.63)^2 where Bk is the proportion of black people by town\\n        - LSTAT    % lower status of the population\\n        - MEDV     Median value of owner-occupied homes in $1000's\\n\\n    :Missing Attribute Values: None\\n\\n    :Creator: Harrison, D. and Rubinfeld, D.L.\\n\\nThis is a copy of UCI ML housing dataset.\\nhttps://archive.ics.uci.edu/ml/machine-learning-databases/housing/\\n\\n\\nThis dataset was taken from the StatLib library which is maintained at Carnegie Mellon University.\\n\\nThe Boston house-price data of Harrison, D. and Rubinfeld, D.L. 'Hedonic\\nprices and the demand for clean air', J. Environ. Economics & Management,\\nvol.5, 81-102, 1978.   Used in Belsley, Kuh & Welsch, 'Regression diagnostics\\n...', Wiley, 1980.   N.B. Various transformations are used in the table on\\npages 244-261 of the latter.\\n\\nThe Boston house-price data has been used in many machine learning papers that address regression\\nproblems.   \\n     \\n.. topic:: References\\n\\n   - Belsley, Kuh & Welsch, 'Regression diagnostics: Identifying Influential Data and Sources of Collinearity', Wiley, 1980. 244-261.\\n   - Quinlan,R. (1993). Combining Instance-Based and Model-Based Learning. In Proceedings on the Tenth International Conference of Machine Learning, 236-243, University of Massachusetts, Amherst. Morgan Kaufmann.\\n\""
      ]
     },
     "execution_count": 8,
     "metadata": {},
     "output_type": "execute_result"
    }
   ],
   "source": [
    "boston.DESCR"
   ]
  },
  {
   "cell_type": "markdown",
   "id": "60d7c522",
   "metadata": {},
   "source": [
    "# Example "
   ]
  },
  {
   "cell_type": "code",
   "execution_count": 9,
   "id": "8d9937ad",
   "metadata": {},
   "outputs": [
    {
     "ename": "SyntaxError",
     "evalue": "invalid syntax (196139429.py, line 1)",
     "output_type": "error",
     "traceback": [
      "\u001b[0;36m  File \u001b[0;32m\"/tmp/ipykernel_6621/196139429.py\"\u001b[0;36m, line \u001b[0;32m1\u001b[0m\n\u001b[0;31m    Problem - Read the sklearn dataset\u001b[0m\n\u001b[0m                   ^\u001b[0m\n\u001b[0;31mSyntaxError\u001b[0m\u001b[0;31m:\u001b[0m invalid syntax\n"
     ]
    }
   ],
   "source": [
    "Problem - Read the sklearn dataset\n",
    "\n",
    "scikit-learn comes with a few small standard datasets that do not require downloading any file from some external website.\n",
    "These datasets are useful to quickly illustrate the behaviour of the various algorithms implemented in scikit-learn. They are however often too small to be representative of real-world machine learning tasks.\n",
    "One such dataset is the \"Iris dataset\".\n",
    "Your work is to load this dataset from the sklearn library and print the first five rows using the head method of the pandas' library.\n",
    "Output\n",
    "Print the first 5 rows of iris dataset(after loading from sklearn toy dataset)."
   ]
  },
  {
   "cell_type": "code",
   "execution_count": 13,
   "id": "20df2920",
   "metadata": {},
   "outputs": [
    {
     "name": "stdout",
     "output_type": "stream",
     "text": [
      "   sepal length (cm)  sepal width (cm)  petal length (cm)  petal width (cm)\n",
      "0                5.1               3.5                1.4               0.2\n",
      "1                4.9               3.0                1.4               0.2\n",
      "2                4.7               3.2                1.3               0.2\n",
      "3                4.6               3.1                1.5               0.2\n",
      "4                5.0               3.6                1.4               0.2\n"
     ]
    }
   ],
   "source": [
    "from sklearn.datasets import load_iris\n",
    "import pandas as pd\n",
    "\n",
    "# Load Iris dataset from sklearn\n",
    "iris = load_iris()\n",
    "\n",
    "# Convert iris dataset to pandas dataframe\n",
    "iris_df = pd.DataFrame(data=iris.data, columns=iris.feature_names)\n",
    "\n",
    "# Print first 5 rows of iris dataframe\n",
    "print(iris_df.head())"
   ]
  },
  {
   "cell_type": "code",
   "execution_count": 25,
   "id": "f550dab5",
   "metadata": {},
   "outputs": [
    {
     "name": "stdout",
     "output_type": "stream",
     "text": [
      "   sepal length (cm)  sepal width (cm)  petal length (cm)  petal width (cm)\n",
      "0                5.1               3.5                1.4               0.2\n",
      "1                4.9               3.0                1.4               0.2\n",
      "2                4.7               3.2                1.3               0.2\n",
      "3                4.6               3.1                1.5               0.2\n",
      "4                5.0               3.6                1.4               0.2\n"
     ]
    }
   ],
   "source": [
    "from sklearn import datasets\n",
    "import pandas as pd\n",
    "\n",
    "iris = datasets.load_iris()\n",
    "\n",
    "X = iris.data\n",
    "Y = iris.target\n",
    "\n",
    "iris_df = pd.DataFrame(X, columns = iris.feature_names)\n",
    "\n",
    "print(iris_df.head(5))"
   ]
  },
  {
   "cell_type": "markdown",
   "id": "5e1016ab",
   "metadata": {},
   "source": [
    "# Training an algorithm"
   ]
  },
  {
   "cell_type": "code",
   "execution_count": 26,
   "id": "da85c94d",
   "metadata": {},
   "outputs": [
    {
     "data": {
      "text/plain": [
       "[array([[6.3, 2.3, 4.4, 1.3],\n",
       "        [6. , 3. , 4.8, 1.8],\n",
       "        [5.7, 2.5, 5. , 2. ],\n",
       "        [4.7, 3.2, 1.3, 0.2],\n",
       "        [4.3, 3. , 1.1, 0.1],\n",
       "        [6. , 3.4, 4.5, 1.6],\n",
       "        [4.4, 3.2, 1.3, 0.2],\n",
       "        [7.7, 3.8, 6.7, 2.2],\n",
       "        [6.1, 3. , 4.6, 1.4],\n",
       "        [5.5, 2.4, 3.7, 1. ],\n",
       "        [5.2, 2.7, 3.9, 1.4],\n",
       "        [4.4, 2.9, 1.4, 0.2],\n",
       "        [6.7, 3.1, 4.4, 1.4],\n",
       "        [4.7, 3.2, 1.6, 0.2],\n",
       "        [5.7, 2.6, 3.5, 1. ],\n",
       "        [4.9, 2.4, 3.3, 1. ],\n",
       "        [5.6, 3. , 4.1, 1.3],\n",
       "        [6.3, 3.4, 5.6, 2.4],\n",
       "        [6.6, 2.9, 4.6, 1.3],\n",
       "        [4.9, 2.5, 4.5, 1.7],\n",
       "        [5.4, 3.4, 1.7, 0.2],\n",
       "        [5.2, 3.5, 1.5, 0.2],\n",
       "        [6.8, 2.8, 4.8, 1.4],\n",
       "        [6.7, 3. , 5.2, 2.3],\n",
       "        [6.1, 2.8, 4. , 1.3],\n",
       "        [7.2, 3. , 5.8, 1.6],\n",
       "        [4.8, 3. , 1.4, 0.3],\n",
       "        [5.4, 3.4, 1.5, 0.4],\n",
       "        [5. , 3.4, 1.6, 0.4],\n",
       "        [5.2, 4.1, 1.5, 0.1],\n",
       "        [6.2, 2.8, 4.8, 1.8],\n",
       "        [5. , 3.3, 1.4, 0.2],\n",
       "        [5.8, 2.6, 4. , 1.2],\n",
       "        [7.1, 3. , 5.9, 2.1],\n",
       "        [5.9, 3. , 5.1, 1.8],\n",
       "        [5.5, 2.4, 3.8, 1.1],\n",
       "        [5. , 3.6, 1.4, 0.2],\n",
       "        [5.6, 3. , 4.5, 1.5],\n",
       "        [5.4, 3. , 4.5, 1.5],\n",
       "        [5.4, 3.9, 1.3, 0.4],\n",
       "        [6.5, 3. , 5.2, 2. ],\n",
       "        [5.5, 2.5, 4. , 1.3],\n",
       "        [6.5, 2.8, 4.6, 1.5],\n",
       "        [5. , 2.3, 3.3, 1. ],\n",
       "        [6.4, 2.8, 5.6, 2.2],\n",
       "        [6.5, 3.2, 5.1, 2. ],\n",
       "        [5. , 3.2, 1.2, 0.2],\n",
       "        [5.8, 4. , 1.2, 0.2],\n",
       "        [5.8, 2.7, 5.1, 1.9],\n",
       "        [5.5, 3.5, 1.3, 0.2],\n",
       "        [6.7, 3.3, 5.7, 2.5],\n",
       "        [6.9, 3.1, 5.4, 2.1],\n",
       "        [5.1, 3.5, 1.4, 0.2],\n",
       "        [7.9, 3.8, 6.4, 2. ],\n",
       "        [6.6, 3. , 4.4, 1.4],\n",
       "        [6.5, 3. , 5.5, 1.8],\n",
       "        [6.4, 2.9, 4.3, 1.3],\n",
       "        [4.9, 3.6, 1.4, 0.1],\n",
       "        [6.9, 3.1, 5.1, 2.3],\n",
       "        [5.1, 3.7, 1.5, 0.4],\n",
       "        [7.7, 2.6, 6.9, 2.3],\n",
       "        [5.1, 3.8, 1.5, 0.3],\n",
       "        [6.5, 3. , 5.8, 2.2],\n",
       "        [6.8, 3.2, 5.9, 2.3],\n",
       "        [5. , 3.5, 1.3, 0.3],\n",
       "        [4.9, 3.1, 1.5, 0.2],\n",
       "        [6. , 2.2, 5. , 1.5],\n",
       "        [4.8, 3.4, 1.9, 0.2],\n",
       "        [5.2, 3.4, 1.4, 0.2],\n",
       "        [5.1, 3.8, 1.9, 0.4],\n",
       "        [6.3, 2.9, 5.6, 1.8],\n",
       "        [4.8, 3.4, 1.6, 0.2],\n",
       "        [6.9, 3.2, 5.7, 2.3],\n",
       "        [7.2, 3.6, 6.1, 2.5],\n",
       "        [6.9, 3.1, 4.9, 1.5],\n",
       "        [6.7, 3.1, 4.7, 1.5],\n",
       "        [6.3, 2.5, 4.9, 1.5],\n",
       "        [6.2, 2.9, 4.3, 1.3],\n",
       "        [5.8, 2.8, 5.1, 2.4],\n",
       "        [7.3, 2.9, 6.3, 1.8],\n",
       "        [5.6, 2.8, 4.9, 2. ],\n",
       "        [6.3, 3.3, 6. , 2.5],\n",
       "        [5.1, 3.8, 1.6, 0.2],\n",
       "        [7.7, 2.8, 6.7, 2. ],\n",
       "        [6.1, 2.8, 4.7, 1.2],\n",
       "        [5.1, 3.3, 1.7, 0.5],\n",
       "        [5.9, 3. , 4.2, 1.5],\n",
       "        [5.9, 3.2, 4.8, 1.8],\n",
       "        [6.7, 2.5, 5.8, 1.8],\n",
       "        [5.5, 4.2, 1.4, 0.2],\n",
       "        [4.8, 3. , 1.4, 0.1],\n",
       "        [5.4, 3.7, 1.5, 0.2],\n",
       "        [6. , 2.9, 4.5, 1.5],\n",
       "        [5. , 2. , 3.5, 1. ],\n",
       "        [5.8, 2.7, 4.1, 1. ],\n",
       "        [5.7, 2.8, 4.5, 1.3],\n",
       "        [6.4, 3.2, 4.5, 1.5],\n",
       "        [5.6, 2.5, 3.9, 1.1],\n",
       "        [5. , 3.5, 1.6, 0.6],\n",
       "        [5.1, 2.5, 3. , 1.1],\n",
       "        [4.9, 3.1, 1.5, 0.1],\n",
       "        [5. , 3. , 1.6, 0.2],\n",
       "        [6. , 2.2, 4. , 1. ],\n",
       "        [6.1, 2.9, 4.7, 1.4],\n",
       "        [6.2, 2.2, 4.5, 1.5],\n",
       "        [4.5, 2.3, 1.3, 0.3],\n",
       "        [4.6, 3.1, 1.5, 0.2],\n",
       "        [4.6, 3.6, 1. , 0.2],\n",
       "        [4.6, 3.4, 1.4, 0.3],\n",
       "        [7. , 3.2, 4.7, 1.4],\n",
       "        [6.8, 3. , 5.5, 2.1],\n",
       "        [5.1, 3.4, 1.5, 0.2]]),\n",
       " array([[4.8, 3.1, 1.6, 0.2],\n",
       "        [5.7, 2.8, 4.1, 1.3],\n",
       "        [5.4, 3.9, 1.7, 0.4],\n",
       "        [6.7, 3.1, 5.6, 2.4],\n",
       "        [6.3, 2.5, 5. , 1.9],\n",
       "        [4.9, 3. , 1.4, 0.2],\n",
       "        [6.3, 2.8, 5.1, 1.5],\n",
       "        [7.6, 3. , 6.6, 2.1],\n",
       "        [6.4, 2.7, 5.3, 1.9],\n",
       "        [4.4, 3. , 1.3, 0.2],\n",
       "        [5.8, 2.7, 5.1, 1.9],\n",
       "        [7.4, 2.8, 6.1, 1.9],\n",
       "        [6.1, 2.6, 5.6, 1.4],\n",
       "        [5.6, 2.7, 4.2, 1.3],\n",
       "        [6.3, 3.3, 4.7, 1.6],\n",
       "        [6.4, 3.2, 5.3, 2.3],\n",
       "        [6.4, 2.8, 5.6, 2.1],\n",
       "        [6. , 2.7, 5.1, 1.6],\n",
       "        [7.2, 3.2, 6. , 1.8],\n",
       "        [5. , 3.4, 1.5, 0.2],\n",
       "        [5.7, 4.4, 1.5, 0.4],\n",
       "        [5.8, 2.7, 3.9, 1.2],\n",
       "        [6.1, 3. , 4.9, 1.8],\n",
       "        [5.3, 3.7, 1.5, 0.2],\n",
       "        [4.6, 3.2, 1.4, 0.2],\n",
       "        [5.7, 3. , 4.2, 1.2],\n",
       "        [5.5, 2.3, 4. , 1.3],\n",
       "        [6.4, 3.1, 5.5, 1.8],\n",
       "        [6.3, 2.7, 4.9, 1.8],\n",
       "        [7.7, 3. , 6.1, 2.3],\n",
       "        [5.6, 2.9, 3.6, 1.3],\n",
       "        [6.7, 3. , 5. , 1.7],\n",
       "        [5.7, 3.8, 1.7, 0.3],\n",
       "        [5.5, 2.6, 4.4, 1.2],\n",
       "        [6.7, 3.3, 5.7, 2.1],\n",
       "        [5.1, 3.5, 1.4, 0.3],\n",
       "        [6.2, 3.4, 5.4, 2.3],\n",
       "        [5.7, 2.9, 4.2, 1.3]]),\n",
       " array([1, 2, 2, 0, 0, 1, 0, 2, 1, 1, 1, 0, 1, 0, 1, 1, 1, 2, 1, 2, 0, 0,\n",
       "        1, 2, 1, 2, 0, 0, 0, 0, 2, 0, 1, 2, 2, 1, 0, 1, 1, 0, 2, 1, 1, 1,\n",
       "        2, 2, 0, 0, 2, 0, 2, 2, 0, 2, 1, 2, 1, 0, 2, 0, 2, 0, 2, 2, 0, 0,\n",
       "        2, 0, 0, 0, 2, 0, 2, 2, 1, 1, 1, 1, 2, 2, 2, 2, 0, 2, 1, 0, 1, 1,\n",
       "        2, 0, 0, 0, 1, 1, 1, 1, 1, 1, 0, 1, 0, 0, 1, 1, 1, 0, 0, 0, 0, 1,\n",
       "        2, 0]),\n",
       " array([0, 1, 0, 2, 2, 0, 2, 2, 2, 0, 2, 2, 2, 1, 1, 2, 2, 1, 2, 0, 0, 1,\n",
       "        2, 0, 0, 1, 1, 2, 2, 2, 1, 1, 0, 1, 2, 0, 2, 1])]"
      ]
     },
     "execution_count": 26,
     "metadata": {},
     "output_type": "execute_result"
    }
   ],
   "source": [
    "from sklearn import model_selection # model_selection module can be used to split the data into training data and testing data\n",
    "X_train, X_test, Y_train, Y_test = model_selection.train_test_split(X, Y)\n",
    "model_selection.train_test_split(X, Y)\n",
    "# Going to give us four different arrays:\n",
    "# X_train, X_test, Y_trian, and Y_test"
   ]
  },
  {
   "cell_type": "code",
   "execution_count": 27,
   "id": "58a68401",
   "metadata": {},
   "outputs": [
    {
     "name": "stdout",
     "output_type": "stream",
     "text": [
      "(112, 4)\n",
      "(38, 4)\n",
      "(112,)\n",
      "(38,)\n"
     ]
    }
   ],
   "source": [
    "print(X_train.shape)\n",
    "print(X_test.shape) # So, clearly from the output 25% of the data is splitted into testing data\n",
    "print(Y_train.shape)\n",
    "print(Y_test.shape)"
   ]
  },
  {
   "cell_type": "code",
   "execution_count": 28,
   "id": "f0e61ad0",
   "metadata": {},
   "outputs": [
    {
     "data": {
      "text/plain": [
       "LinearRegression()"
      ]
     },
     "execution_count": 28,
     "metadata": {},
     "output_type": "execute_result"
    }
   ],
   "source": [
    "# Importing Linear Regression Algorithm\n",
    "from sklearn.linear_model import LinearRegression\n",
    "algo = LinearRegression()\n",
    "algo.fit(X_train, Y_train) # Making the algo learn from the training data"
   ]
  },
  {
   "cell_type": "code",
   "execution_count": 30,
   "id": "86e2d261",
   "metadata": {
    "scrolled": true
   },
   "outputs": [
    {
     "data": {
      "text/plain": [
       "array([ 1.58806556e+00, -6.74976688e-02,  1.31399708e-01,  9.12663365e-01,\n",
       "       -4.55428662e-02,  1.80556927e+00,  6.45452463e-02,  1.90553394e-01,\n",
       "       -4.25425248e-02,  1.29515763e+00,  1.39062126e+00,  5.98146799e-02,\n",
       "        3.39666895e-02,  1.15766735e+00,  1.07168633e+00,  1.91789137e+00,\n",
       "       -7.00458076e-02,  2.63670253e-02,  1.25587748e+00,  2.05647287e+00,\n",
       "        1.86408384e-03,  1.46008412e+00, -5.14872380e-02,  1.06655992e+00,\n",
       "        1.74313122e+00,  1.76706618e+00,  1.20164793e+00,  1.35243227e+00,\n",
       "        1.94313053e+00,  1.87765125e+00,  1.74355720e+00,  1.51548658e+00,\n",
       "        1.91636732e+00,  1.96147611e+00,  1.54903539e+00,  1.44279962e+00,\n",
       "        1.17230260e+00,  2.07475169e-02])"
      ]
     },
     "execution_count": 30,
     "metadata": {},
     "output_type": "execute_result"
    }
   ],
   "source": [
    "# Predicting the output for the testing data\n",
    "Y_predicted = algo.predict(X_test)\n",
    "Y_predicted"
   ]
  },
  {
   "cell_type": "code",
   "execution_count": 36,
   "id": "4d6c598c",
   "metadata": {},
   "outputs": [
    {
     "data": {
      "image/png": "[encoded data removed]",
      "text/plain": [
       "<Figure size 640x480 with 1 Axes>"
      ]
     },
     "metadata": {},
     "output_type": "display_data"
    }
   ],
   "source": [
    "import matplotlib.pyplot as plt\n",
    "# Now to figure out if this prediction is good or bad we need to compare Y_predicted and Y_test\n",
    "plt.scatter(Y_predicted, Y_test)\n",
    "# plt.axis([0, 5, 0, 5])\n",
    "plt.show()"
   ]
  },
  {
   "cell_type": "markdown",
   "id": "05fea29d",
   "metadata": {},
   "source": [
    "# Examples"
   ]
  },
  {
   "cell_type": "code",
   "execution_count": null,
   "id": "098a4774",
   "metadata": {},
   "outputs": [],
   "source": [
    "Problem - Split the dataset\n",
    "\n",
    "In the previous problem we loaded the iris dataset. Now use this loaded dataset to split the training and testing dataset.\n",
    "Your work is to again load this dataset from the sklearn library and split the dataset into training and testing in the ratio of 70:30 and print the shape.\n",
    "Output\n",
    "Print the shape of X_train\n",
    "Print the shape of X_test\n",
    "Print the shape of y_train\n",
    "Print the shape of y_test"
   ]
  },
  {
   "cell_type": "code",
   "execution_count": 37,
   "id": "76a40226",
   "metadata": {},
   "outputs": [
    {
     "name": "stdout",
     "output_type": "stream",
     "text": [
      "(105, 4)\n",
      "(45, 4)\n",
      "(105,)\n",
      "(45,)\n"
     ]
    }
   ],
   "source": [
    "from sklearn import datasets\n",
    "from sklearn import model_selection\n",
    "\n",
    "iris = datasets.load_iris()\n",
    "\n",
    "X = iris.data\n",
    "Y = iris.target\n",
    "\n",
    "X_train, X_test, Y_train, Y_test = model_selection.train_test_split(X, Y, test_size = 0.3)\n",
    "\n",
    "print(X_train.shape)\n",
    "print(X_test.shape)\n",
    "print(Y_train.shape)\n",
    "print(Y_test.shape)"
   ]
  },
  {
   "cell_type": "code",
   "execution_count": null,
   "id": "998feb4c",
   "metadata": {},
   "outputs": [],
   "source": [
    "Problem - Diabetes Dataset\n",
    "\n",
    "scikit-learn comes with a few small standard datasets that do not require downloading any file from some external website.\n",
    "These datasets are useful to quickly illustrate the behaviour of the various algorithms implemented in scikit-learn. They are however often too small to be representative of real-world machine learning tasks.\n",
    "One such dataset is the \"Diabetes dataset\".\n",
    "Your work is to load this dataset from the sklearn library and split the dataset into training and testing in the ratio of 70:30 and print the shape.\n",
    "Output\n",
    "Print the shape of X_train\n",
    "Print the shape of X_test\n",
    "Print the shape of y_train\n",
    "Print the shape of y_test"
   ]
  },
  {
   "cell_type": "code",
   "execution_count": 38,
   "id": "1cc21ecf",
   "metadata": {},
   "outputs": [
    {
     "name": "stdout",
     "output_type": "stream",
     "text": [
      "(309, 10)\n",
      "(133, 10)\n",
      "(309,)\n",
      "(133,)\n"
     ]
    }
   ],
   "source": [
    "from sklearn import datasets\n",
    "from sklearn import model_selection\n",
    "\n",
    "diabetes = datasets.load_diabetes()\n",
    "\n",
    "X = diabetes.data\n",
    "Y = diabetes.target\n",
    "\n",
    "X_train, X_test, Y_train, Y_test = model_selection.train_test_split(X, Y, test_size = 0.3)\n",
    "\n",
    "print(X_train.shape)\n",
    "print(X_test.shape)\n",
    "print(Y_train.shape)\n",
    "print(Y_test.shape)"
   ]
  }
 ],
 "metadata": {
  "kernelspec": {
   "display_name": "Python 3 (ipykernel)",
   "language": "python",
   "name": "python3"
  },
  "language_info": {
   "codemirror_mode": {
    "name": "ipython",
    "version": 3
   },
   "file_extension": ".py",
   "mimetype": "text/x-python",
   "name": "python",
   "nbconvert_exporter": "python",
   "pygments_lexer": "ipython3",
   "version": "3.9.13"
  }
 },
 "nbformat": 4,
 "nbformat_minor": 5
}
